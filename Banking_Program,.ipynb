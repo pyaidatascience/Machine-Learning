{
  "nbformat": 4,
  "nbformat_minor": 0,
  "metadata": {
    "colab": {
      "provenance": [],
      "authorship_tag": "ABX9TyNAa8ZI65o6iEizcHLKBaRh",
      "include_colab_link": true
    },
    "kernelspec": {
      "name": "python3",
      "display_name": "Python 3"
    },
    "language_info": {
      "name": "python"
    }
  },
  "cells": [
    {
      "cell_type": "markdown",
      "metadata": {
        "id": "view-in-github",
        "colab_type": "text"
      },
      "source": [
        "<a href=\"https://colab.research.google.com/github/pyaidatascience/Machine-Learning/blob/main/Banking_Program%2C.ipynb\" target=\"_parent\"><img src=\"https://colab.research.google.com/assets/colab-badge.svg\" alt=\"Open In Colab\"/></a>"
      ]
    },
    {
      "cell_type": "code",
      "execution_count": null,
      "metadata": {
        "id": "1SPCfbEdwYF1"
      },
      "outputs": [],
      "source": []
    },
    {
      "cell_type": "markdown",
      "source": [],
      "metadata": {
        "id": "edx_lwd6xTCQ"
      }
    },
    {
      "cell_type": "markdown",
      "source": [
        "## Python program  for the banking software\n",
        "\n",
        "1. Show balace\n",
        "2. Deposite\n",
        "3. Withdraw"
      ],
      "metadata": {
        "id": "QWukKli8xTEF"
      }
    },
    {
      "cell_type": "code",
      "source": [
        "def show_balance():\n",
        "  print(f'Your balance is Rs.:  {balance: .2f}')\n",
        "\n",
        "\n",
        "def deposite():\n",
        "  amount = float(input('Enter an amount to be deposited'))\n",
        "\n",
        "  if amount < 0:\n",
        "    print('That is not valid amount')\n",
        "  else:\n",
        "    global balance\n",
        "    balance += amount\n",
        "    print(f'Your balance is Rs.:  {balance: .2f}')\n",
        "\n",
        "def withdraw():\n",
        "  pass\n",
        "\n",
        "balance = 0\n",
        "is_running = True\n",
        "\n",
        "while is_running:\n",
        "  print('Banking Program')\n",
        "  print(\"1. Show balance\")\n",
        "  print(\"2. Deposite\")\n",
        "  print(\"3. Withdraw\")\n",
        "  print(\"4. Exit\")\n",
        "\n",
        "  choice = int(input('Enter your choice :'))\n",
        "  if choice == 1:\n",
        "    show_balance()\n",
        "  elif choice == 2:\n",
        "    deposite()\n",
        "  elif choice == 3:\n",
        "    withdraw()\n",
        "  elif choice == 4:\n",
        "    is_running = False\n",
        "  else:\n",
        "    print('This is Invalid choice')\n",
        "\n",
        "print('Thank you! Have a nice day!')"
      ],
      "metadata": {
        "colab": {
          "base_uri": "https://localhost:8080/"
        },
        "id": "_eDCfWppxW9A",
        "outputId": "b1214e36-37b2-40ed-b870-e3a370125e04"
      },
      "execution_count": 3,
      "outputs": [
        {
          "output_type": "stream",
          "name": "stdout",
          "text": [
            "Banking Program\n",
            "1. Show balance\n",
            "2. Deposite\n",
            "3. Withdraw\n",
            "4. Exit\n",
            "Enter your choice :2\n",
            "Enter an amount to be deposited20000\n",
            "Your balance is Rs.:   20000.00\n",
            "Banking Program\n",
            "1. Show balance\n",
            "2. Deposite\n",
            "3. Withdraw\n",
            "4. Exit\n",
            "Enter your choice :2\n",
            "Enter an amount to be deposited52.63\n",
            "Your balance is Rs.:   20052.63\n",
            "Banking Program\n",
            "1. Show balance\n",
            "2. Deposite\n",
            "3. Withdraw\n",
            "4. Exit\n",
            "Enter your choice :1\n",
            "Your balance is Rs.:   20052.63\n",
            "Banking Program\n",
            "1. Show balance\n",
            "2. Deposite\n",
            "3. Withdraw\n",
            "4. Exit\n",
            "Enter your choice :4\n",
            "Thank you! Have a nice day!\n"
          ]
        }
      ]
    },
    {
      "cell_type": "code",
      "source": [],
      "metadata": {
        "id": "aMziJBK2yhh-"
      },
      "execution_count": null,
      "outputs": []
    }
  ]
}